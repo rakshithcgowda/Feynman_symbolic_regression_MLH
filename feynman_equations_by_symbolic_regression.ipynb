{
  "metadata": {
    "kernelspec": {
      "language": "python",
      "display_name": "Python 3",
      "name": "python3"
    },
    "language_info": {
      "pygments_lexer": "ipython3",
      "nbconvert_exporter": "python",
      "version": "3.6.4",
      "file_extension": ".py",
      "codemirror_mode": {
        "name": "ipython",
        "version": 3
      },
      "name": "python",
      "mimetype": "text/x-python"
    },
    "kaggle": {
      "accelerator": "none",
      "dataSources": [
        {
          "sourceId": 5413776,
          "sourceType": "datasetVersion",
          "datasetId": 3135229
        },
        {
          "sourceId": 5413807,
          "sourceType": "datasetVersion",
          "datasetId": 3135243
        }
      ],
      "dockerImageVersionId": 30458,
      "isInternetEnabled": true,
      "language": "python",
      "sourceType": "notebook",
      "isGpuEnabled": false
    },
    "colab": {
      "provenance": [],
      "include_colab_link": true
    }
  },
  "nbformat_minor": 0,
  "nbformat": 4,
  "cells": [
    {
      "cell_type": "markdown",
      "metadata": {
        "id": "view-in-github",
        "colab_type": "text"
      },
      "source": [
        "<a href=\"https://colab.research.google.com/github/rakshithcgowda/Feynman_symbolic_regression_MLH/blob/main/feynman_equations_by_symbolic_regression.ipynb\" target=\"_parent\"><img src=\"https://colab.research.google.com/assets/colab-badge.svg\" alt=\"Open In Colab\"/></a>"
      ]
    },
    {
      "cell_type": "markdown",
      "source": [
        "# Feymnam dataset regression by PHCRegressor\n",
        "\n",
        "In original benchmark runs method with time budget 2 hours per one fit task. This notebook show that above 40% simplest Feynman equations can be solved in 1 second.\n",
        "\n",
        "*(Original benchmark results are available here: https://cavalab.org/srbench/results/)*\n"
      ],
      "metadata": {
        "id": "JSc81trJiLs9"
      }
    },
    {
      "cell_type": "markdown",
      "source": [
        "## Installation"
      ],
      "metadata": {
        "id": "5DevR-obiLs_"
      }
    },
    {
      "cell_type": "code",
      "source": [
        "%%capture\n",
        "%pip install -U HROCH\n",
        "#Penn Machine Learning Benchmarks\n",
        "%pip install -U git+https://github.com/EpistasisLab/pmlb"
      ],
      "metadata": {
        "execution": {
          "iopub.status.busy": "2023-04-16T09:16:34.346014Z",
          "iopub.execute_input": "2023-04-16T09:16:34.346429Z",
          "iopub.status.idle": "2023-04-16T09:17:00.805633Z",
          "shell.execute_reply.started": "2023-04-16T09:16:34.346392Z",
          "shell.execute_reply": "2023-04-16T09:17:00.803629Z"
        },
        "trusted": true,
        "id": "Hh7BNgPPiLtA"
      },
      "execution_count": null,
      "outputs": []
    },
    {
      "cell_type": "code",
      "source": [
        "import numpy as np\n",
        "import pandas as pd\n",
        "import sympy as sp\n",
        "import signal\n",
        "import time\n",
        "from sklearn.model_selection import train_test_split\n",
        "from sklearn.metrics import r2_score\n",
        "from collections import OrderedDict\n",
        "from IPython.display import clear_output\n",
        "from pmlb import fetch_data, regression_dataset_names\n",
        "from HROCH import PHCRegressor"
      ],
      "metadata": {
        "_uuid": "8f2839f25d086af736a60e9eeb907d3b93b6e0e5",
        "_cell_guid": "b1076dfc-b9ad-4769-8c92-a6c4dae69d19",
        "execution": {
          "iopub.status.busy": "2023-04-16T09:17:00.808619Z",
          "iopub.execute_input": "2023-04-16T09:17:00.809049Z",
          "iopub.status.idle": "2023-04-16T09:17:00.820224Z",
          "shell.execute_reply.started": "2023-04-16T09:17:00.809007Z",
          "shell.execute_reply": "2023-04-16T09:17:00.81768Z"
        },
        "trusted": true,
        "id": "lbHSLxM4iLtB"
      },
      "execution_count": null,
      "outputs": []
    },
    {
      "cell_type": "markdown",
      "source": [
        "## Get Feynman equations\n",
        "\n",
        "Read and parse original equations FeynmanEquations.csv and BonusEquations.csv (source: https://space.mit.edu/home/tegmark/aifeynman.html)\n"
      ],
      "metadata": {
        "id": "CvjRlK5xiLtB"
      }
    },
    {
      "cell_type": "code",
      "source": [
        "eq_df = pd.read_csv('/kaggle/input/equations/FeynmanEquations.csv')\n",
        "bonus_eq_df = pd.read_csv('/kaggle/input/bonus-equations/BonusEquations.csv')\n",
        "eq_df.dropna(axis = 0, how = 'all', inplace = True)\n",
        "bonus_eq_df.dropna(axis = 0, how = 'all', inplace = True)\n",
        "eq_df.Filename = eq_df.Filename.apply(lambda x: 'feynman_' + x.replace('.', '_'))\n",
        "bonus_eq_df.Filename = bonus_eq_df.Filename.apply(lambda x: 'feynman_' + x.replace('.', '_'))\n",
        "\n",
        "eq_df = pd.concat([eq_df[['Filename', 'Formula']], bonus_eq_df[['Filename', 'Formula']]])\n",
        "\n",
        "#feynman_I_15_10 in pmlb equal to I.15.1 in original source\n",
        "eq_df.Filename = eq_df.Filename.apply(lambda x: x.replace('feynman_I_15_1', 'feynman_I_15_10'))\n",
        "#replace arc functions for compatibility with sympy\n",
        "eq_df.Formula = eq_df.Formula.apply(lambda x: x.replace('arcsin', 'asin'))\n",
        "eq_df.Formula = eq_df.Formula.apply(lambda x: x.replace('arccos', 'acos'))\n",
        "eq_df.Formula = eq_df.Formula.apply(lambda x: x.replace('arctan', 'atan'))\n",
        "eq_df.head()"
      ],
      "metadata": {
        "execution": {
          "iopub.status.busy": "2023-04-16T09:17:00.82193Z",
          "iopub.execute_input": "2023-04-16T09:17:00.822844Z",
          "iopub.status.idle": "2023-04-16T09:17:00.878982Z",
          "shell.execute_reply.started": "2023-04-16T09:17:00.822799Z",
          "shell.execute_reply": "2023-04-16T09:17:00.87753Z"
        },
        "trusted": true,
        "id": "Y83Jox1fiLtB"
      },
      "execution_count": null,
      "outputs": []
    },
    {
      "cell_type": "markdown",
      "source": [
        "## Load datasets"
      ],
      "metadata": {
        "id": "oQIq5ISYiLtC"
      }
    },
    {
      "cell_type": "code",
      "source": [
        "%%time\n",
        "datasets={}\n",
        "for name in regression_dataset_names:\n",
        "    if name.find('feynman')>= 0:\n",
        "        datasets[name] = fetch_data(name)\n",
        ""
      ],
      "metadata": {
        "execution": {
          "iopub.status.busy": "2023-04-16T09:17:00.882364Z",
          "iopub.execute_input": "2023-04-16T09:17:00.882806Z",
          "iopub.status.idle": "2023-04-16T09:18:40.665811Z",
          "shell.execute_reply.started": "2023-04-16T09:17:00.882763Z",
          "shell.execute_reply": "2023-04-16T09:18:40.664522Z"
        },
        "trusted": true,
        "id": "174SFdi8iLtC"
      },
      "execution_count": null,
      "outputs": []
    },
    {
      "cell_type": "markdown",
      "source": [
        "## Run experiment"
      ],
      "metadata": {
        "id": "BOlJiuVZiLtC"
      }
    },
    {
      "cell_type": "code",
      "source": [
        "RANDOM_STATE = 42\n",
        "SAMPLE_SIZE = 10000 #same as srbench\n",
        "TIME_LIMIT = 1 #7200 in srbench, but we dont have 10 days to run this notebook\n",
        "THREADS = 1 #same as srbench\n",
        "TARGET_NOISE = 0 #0.001, 0.01, 0.1\n",
        "SIMPLIFY_TIMEOUT = 1 #unfortunately sympy is sometimes too slow with simplification"
      ],
      "metadata": {
        "execution": {
          "iopub.status.busy": "2023-04-16T10:40:55.800965Z",
          "iopub.execute_input": "2023-04-16T10:40:55.801387Z",
          "iopub.status.idle": "2023-04-16T10:40:55.806805Z",
          "shell.execute_reply.started": "2023-04-16T10:40:55.801351Z",
          "shell.execute_reply": "2023-04-16T10:40:55.805698Z"
        },
        "trusted": true,
        "id": "jSpbesIbiLtC"
      },
      "execution_count": null,
      "outputs": []
    },
    {
      "cell_type": "code",
      "source": [
        "%%time\n",
        "\n",
        "np.random.seed(RANDOM_STATE)\n",
        "results = pd.DataFrame(columns=['dataset','equal','score', 'time', 'original', 'equation'])\n",
        "cnt = 0\n",
        "for name, df in datasets.items():\n",
        "    cnt = cnt + 1\n",
        "    #df = df.sample(n=SAMPLE_SIZE, random_state=RANDOM_STATE)\n",
        "    X = df.drop('target', axis=1).to_numpy()\n",
        "    y = df[['target']].to_numpy().ravel()\n",
        "    X_train, X_test, y_train, y_test = train_test_split(X, y, train_size=0.75, test_size=0.25, random_state=RANDOM_STATE)\n",
        "\n",
        "    if len(y) > SAMPLE_SIZE:\n",
        "        sample_idx = np.random.choice(np.arange(len(y_train)), size=SAMPLE_SIZE)\n",
        "        X_train = X_train[sample_idx]\n",
        "        y_train = y_train[sample_idx]\n",
        "    if TARGET_NOISE > 0:\n",
        "        y_train += np.random.normal(0, TARGET_NOISE*np.sqrt(np.mean(np.square(y_train))), size=len(y_train))\n",
        "\n",
        "    reg = PHCRegressor(num_threads=THREADS, time_limit=TIME_LIMIT, random_state=RANDOM_STATE)\n",
        "\n",
        "    start = time.time()\n",
        "    reg.fit(X_train, y_train)\n",
        "    fit_time = time.time() - start\n",
        "\n",
        "    preds = reg.predict(X_test)\n",
        "    score = r2_score(y_test, preds)\n",
        "\n",
        "    orig = eq_df[eq_df.Filename == name]['Formula'].tolist()\n",
        "    if (len(orig) == 0):\n",
        "        print(f'equation {name} not found')\n",
        "\n",
        "    results.loc[len(results)] = [name, None, score, fit_time, orig[0], reg.sexpr]\n",
        "    clear_output()\n",
        "    print(f'{cnt} {name} score: {score}')\n",
        "\n",
        "clear_output()\n",
        "results"
      ],
      "metadata": {
        "execution": {
          "iopub.status.busy": "2023-04-16T10:38:22.733496Z",
          "iopub.execute_input": "2023-04-16T10:38:22.73426Z",
          "iopub.status.idle": "2023-04-16T10:39:29.134853Z",
          "shell.execute_reply.started": "2023-04-16T10:38:22.734213Z",
          "shell.execute_reply": "2023-04-16T10:39:29.13343Z"
        },
        "trusted": true,
        "id": "d3UImv_hiLtD"
      },
      "execution_count": null,
      "outputs": []
    },
    {
      "cell_type": "markdown",
      "source": [
        "## Postprocessing\n",
        "\n",
        "* Compare with original equation."
      ],
      "metadata": {
        "id": "0QBE2fK8iLtD"
      }
    },
    {
      "cell_type": "code",
      "source": [
        "class TimeOutException(Exception):\n",
        "    pass\n",
        "\n",
        "def alarm_handler(signum, frame):\n",
        "    print(f\"raising TimeOutException\")\n",
        "    raise TimeOutException\n",
        "\n",
        "signal.signal(signal.SIGALRM, alarm_handler)\n",
        "\n",
        "def simplify(expr, **args):\n",
        "    signal.signal(signal.SIGALRM, alarm_handler)\n",
        "    signal.alarm(SIMPLIFY_TIMEOUT)\n",
        "    try:\n",
        "        expr2 = sp.simplify(expr, **args)\n",
        "    except Exception as e:\n",
        "        print('simplify ' + str(e))\n",
        "        return expr\n",
        "    signal.alarm(0)\n",
        "    return expr2\n",
        "\n",
        "def round_floats(ex1, precision=4):\n",
        "    ex2 = ex1\n",
        "    for a in sp.preorder_traversal(ex1):\n",
        "        if isinstance(a, sp.Float):\n",
        "            ex2 = ex2.subs(a, sp.Float(round(a, precision),precision))\n",
        "    return ex2\n",
        "\n",
        "def get_eq(X: pd.DataFrame, expr: str):\n",
        "    features = [c for c in X.columns]\n",
        "\n",
        "    eq = round_floats(sp.parse_expr(expr))\n",
        "    model_str = str(simplify(eq, ratio=1))\n",
        "    #mapping1 = {'x'+str(i+1): '$$$'+str(i+1) for i, k in enumerate(X.columns)}\n",
        "    #mapping2 = {'$$$'+str(i+1): k for i, k in enumerate(X.columns)}\n",
        "    mapping1 = OrderedDict({'x'+str(i+1): '$$$'+str(i+1) for i, k in enumerate(X.columns)})\n",
        "    mapping2 = OrderedDict({'$$$'+str(i+1): k for i, k in enumerate(X.columns)})\n",
        "    new_model = model_str\n",
        "    for k, v in reversed(mapping1.items()):\n",
        "        new_model = new_model.replace(k, v)\n",
        "    for k, v in reversed(mapping2.items()):\n",
        "        new_model = new_model.replace(k, v)\n",
        "    return round_floats(sp.parse_expr(new_model, local_dict = {k:sp.Symbol(k) for k in features}))\n",
        "\n",
        "def get_sym_model(X, expr, return_str=True):\n",
        "    features = [c for c in X.columns if c != 'target']\n",
        "    model_str = expr.replace('pi','3.1415926535')\n",
        "    if return_str:\n",
        "        return model_str\n",
        "\n",
        "    model_sym = sp.parse_expr(model_str,local_dict = {k:sp.Symbol(k) for k in features})\n",
        "    model_sym = round_floats(model_sym)\n",
        "    return model_sym\n",
        "\n",
        "def compare_sym_model(X: pd.DataFrame, expr1, expr2):\n",
        "    model1 = expr1\n",
        "    model2 = expr2\n",
        "\n",
        "    try:\n",
        "        sym_diff = round_floats(model1 - model2)\n",
        "        sym_frac = round_floats(model1/model2)\n",
        "        #print('sym_diff:',sym_diff)\n",
        "        #print('sym_frac:',sym_frac)\n",
        "        # check if we can skip simplification\n",
        "        if not sym_diff.is_constant() or sym_frac.is_constant():\n",
        "            sym_diff = round_floats(simplify(sym_diff, ratio=1))\n",
        "            #print('simplified sym_diff:',sym_diff)\n",
        "\n",
        "        symbolic_error_is_zero = str(sym_diff) == '0'\n",
        "        symbolic_error_is_constant = sym_diff.is_constant()\n",
        "        symbolic_fraction_is_constant = sym_frac.is_constant()\n",
        "    except Exception as e:\n",
        "        print(e)\n",
        "        return False\n",
        "\n",
        "    return symbolic_error_is_zero or symbolic_error_is_constant or symbolic_fraction_is_constant"
      ],
      "metadata": {
        "execution": {
          "iopub.status.busy": "2023-04-16T10:41:00.065388Z",
          "iopub.execute_input": "2023-04-16T10:41:00.066253Z",
          "iopub.status.idle": "2023-04-16T10:41:00.086003Z",
          "shell.execute_reply.started": "2023-04-16T10:41:00.066209Z",
          "shell.execute_reply": "2023-04-16T10:41:00.084682Z"
        },
        "trusted": true,
        "id": "dHl1h_O5iLtD"
      },
      "execution_count": null,
      "outputs": []
    },
    {
      "cell_type": "code",
      "source": [
        "%%time\n",
        "for index, row in results.iterrows():\n",
        "    X = datasets[row[\"dataset\"]].drop('target', axis=1)\n",
        "    # skip inaccurate results\n",
        "    if row['score'] < 0.99:\n",
        "        results.at[index,'equation'] = str(get_eq(X, row['equation']))\n",
        "        results.at[index,'equal'] = False\n",
        "        continue\n",
        "\n",
        "    eq = get_eq(X, row['equation'])\n",
        "    orig_eq = get_sym_model(X, row['original'], False)\n",
        "\n",
        "    equal = compare_sym_model(X, eq, orig_eq)\n",
        "    results.at[index,'equation'] = eq\n",
        "    results.at[index,'equal'] = equal\n",
        "\n",
        "    clear_output()\n",
        "    print(f'{index} {row[\"dataset\"]} equal: {equal} [{eq}]')\n",
        "\n",
        "clear_output()\n",
        "results.head()"
      ],
      "metadata": {
        "execution": {
          "iopub.status.busy": "2023-04-16T10:41:03.535899Z",
          "iopub.execute_input": "2023-04-16T10:41:03.536299Z",
          "iopub.status.idle": "2023-04-16T10:41:48.471476Z",
          "shell.execute_reply.started": "2023-04-16T10:41:03.536263Z",
          "shell.execute_reply": "2023-04-16T10:41:48.470172Z"
        },
        "trusted": true,
        "id": "_1MX9_JbiLtE"
      },
      "execution_count": null,
      "outputs": []
    },
    {
      "cell_type": "markdown",
      "source": [
        "## Get and save results\n",
        "\n",
        "* Get symbolic solution rate and accuracy (how often a method finds a model with test set R^2>0.999)"
      ],
      "metadata": {
        "id": "dcR0DreOiLtE"
      }
    },
    {
      "cell_type": "code",
      "source": [
        "solution_rate = results[results.equal == True].shape[0]/results.shape[0]\n",
        "accuracy = results[results.score > 0.999].shape[0]/results.shape[0]\n",
        "\n",
        "print(f'Symbolic solution rate:\\t{round(solution_rate*100, 1)} %')\n",
        "print(f'Accuracy:\\t\\t{round(accuracy*100, 1)} %')"
      ],
      "metadata": {
        "execution": {
          "iopub.status.busy": "2023-04-16T10:41:52.769651Z",
          "iopub.execute_input": "2023-04-16T10:41:52.770093Z",
          "iopub.status.idle": "2023-04-16T10:41:52.779184Z",
          "shell.execute_reply.started": "2023-04-16T10:41:52.770053Z",
          "shell.execute_reply": "2023-04-16T10:41:52.777941Z"
        },
        "trusted": true,
        "id": "tWN-JacViLtE"
      },
      "execution_count": null,
      "outputs": []
    },
    {
      "cell_type": "markdown",
      "source": [
        "* Save results"
      ],
      "metadata": {
        "id": "4lNcJqfHiLtE"
      }
    },
    {
      "cell_type": "code",
      "source": [
        "results.to_csv('results.csv')\n",
        "\n",
        "with pd.option_context('display.max_rows', None, 'display.max_columns', None):  # more options can be specified also\n",
        "    display(results.sort_values('score'))"
      ],
      "metadata": {
        "execution": {
          "iopub.status.busy": "2023-04-16T10:41:58.433392Z",
          "iopub.execute_input": "2023-04-16T10:41:58.433892Z",
          "iopub.status.idle": "2023-04-16T10:41:58.542059Z",
          "shell.execute_reply.started": "2023-04-16T10:41:58.433846Z",
          "shell.execute_reply": "2023-04-16T10:41:58.540689Z"
        },
        "trusted": true,
        "id": "nTVDJ_JBiLtF"
      },
      "execution_count": null,
      "outputs": []
    }
  ]
}